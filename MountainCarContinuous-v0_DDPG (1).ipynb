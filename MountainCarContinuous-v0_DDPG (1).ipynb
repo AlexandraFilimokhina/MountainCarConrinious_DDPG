{
 "cells": [
  {
   "cell_type": "code",
   "execution_count": 12,
   "metadata": {
    "colab": {},
    "colab_type": "code",
    "id": "iAYoQVM4bv9v"
   },
   "outputs": [],
   "source": [
    "import gym\n",
    "import random\n",
    "import numpy as np\n",
    "import copy\n",
    "import torch\n",
    "import numpy as np\n",
    "import torch.nn as nn\n",
    "import torch.optim as optim\n",
    "import torch.nn.functional as F\n",
    "import matplotlib.pyplot as plt\n",
    "from collections import namedtuple, deque\n",
    "%matplotlib inline"
   ]
  },
  {
   "cell_type": "markdown",
   "metadata": {},
   "source": [
    "#### Буфер для experience replay"
   ]
  },
  {
   "cell_type": "code",
   "execution_count": 13,
   "metadata": {
    "colab": {},
    "colab_type": "code",
    "id": "x9uoBYnsvh-I"
   },
   "outputs": [],
   "source": [
    "class ReplayBuffer:\n",
    "    def __init__(self, capacity):\n",
    "        self.capacity = capacity\n",
    "        self.buffer = []\n",
    "        self.position = 0\n",
    "        self.transition = namedtuple('Transition', ('state', 'action', 'next_state', 'reward', 'done'))\n",
    "\n",
    "    def push(self, *args):\n",
    "        if len(self.buffer) < self.capacity:\n",
    "            self.buffer.append(None)\n",
    "        self.buffer[self.position] = self.transition(*args)\n",
    "        self.position = (self.position + 1) % self.capacity\n",
    "\n",
    "    def sample(self, batch_size):\n",
    "        return random.sample(self.buffer, batch_size)\n",
    "\n",
    "    def __len__(self):\n",
    "        return len(self.buffer)"
   ]
  },
  {
   "cell_type": "markdown",
   "metadata": {},
   "source": [
    "#### Шум, сгенерированный Ornstein-Uhlenbeck Process"
   ]
  },
  {
   "cell_type": "code",
   "execution_count": 14,
   "metadata": {
    "colab": {},
    "colab_type": "code",
    "id": "nIoclZ23vlWH"
   },
   "outputs": [],
   "source": [
    "class Noise:\n",
    "    def __init__(self, params):\n",
    "        self.mu = params.mu\n",
    "        self.theta = params.theta\n",
    "        self.sigma = params.sigma\n",
    "        self.reset()\n",
    "\n",
    "    def reset(self):\n",
    "        self.state = np.full(params.action_dim, self.mu)\n",
    "\n",
    "    def make_noise(self):\n",
    "        state = self.state\n",
    "        delta = self.theta *(self.mu - state) + self.sigma * np.random.randn(len(state))\n",
    "        self.state = state + delta\n",
    "        return self.state"
   ]
  },
  {
   "cell_type": "markdown",
   "metadata": {},
   "source": [
    "#### Классы для Actor и Critic сетей и общей модели - Model"
   ]
  },
  {
   "cell_type": "code",
   "execution_count": 15,
   "metadata": {
    "colab": {},
    "colab_type": "code",
    "id": "F-c9o3pQvm5Q"
   },
   "outputs": [],
   "source": [
    "class Actor(nn.Module):\n",
    "    def __init__(self, params):\n",
    "        super(Actor, self).__init__()\n",
    "        self.fc1 = nn.Linear(params.state_dim,  params.act_hid_1)\n",
    "        self.fc2 = nn.Linear(params.act_hid_1, params.act_hid_2)\n",
    "        self.fc3 = nn.Linear(params.act_hid_2,  params.action_dim)\n",
    "    \n",
    "    def forward(self, x):\n",
    "        x = F.relu(self.fc1(x))\n",
    "        x = F.relu(self.fc2(x))\n",
    "        return torch.tanh(self.fc3(x))\n",
    "\n",
    "class Critic(nn.Module):\n",
    "    def __init__(self, params):\n",
    "        super(Critic, self).__init__()\n",
    "\n",
    "        self.fc1 = nn.Linear(params.state_dim, params.crit_hid_1)\n",
    "        self.fc2 = nn.Linear(params.crit_hid_1 + params.action_dim, params.crit_hid_2)\n",
    "        self.fc3 = nn.Linear(params.crit_hid_2, 1)\n",
    "\n",
    "    def forward(self, x, action):\n",
    "        x = F.relu(self.fc1(x))\n",
    "        x = torch.cat((x, action), dim=1)\n",
    "        x = F.relu(self.fc2(x))\n",
    "        return self.fc3(x)\n",
    "\n",
    "class Model:\n",
    "    def __init__(self, params):\n",
    "        \n",
    "        self.device = params.device\n",
    "            \n",
    "        self.actor = Actor(params).to(self.device)\n",
    "        self.actor_target = Actor(params).to(self.device)\n",
    "        self.critic = Critic(params).to(self.device) \n",
    "        self.critic_target = Critic(params).to(self.device)\n",
    "        \n",
    "        self.actor_optimizer = torch.optim.Adam(self.actor.parameters(), lr=params.lr_actor)\n",
    "        self.critic_optimizer = torch.optim.Adam(self.critic.parameters(), lr=params.lr_critic)\n",
    "        \n",
    "        self.tau_actor = params.tau_actor\n",
    "        self.tau_critic = params.tau_critic\n",
    "        \n",
    "        self.__update(self.actor_target, self.actor)\n",
    "        self.__update(self.critic_target, self.critic)\n",
    "        \n",
    "    def __update(self, target, local):\n",
    "        target.load_state_dict(local.state_dict())\n",
    "        \n",
    "    def __soft_update(self, target, local, tau):\n",
    "        for target_param, param in zip(target.parameters(), local.parameters()):\n",
    "            target_param.data.copy_(target_param.data * (1.0 - tau) + param.data * tau)\n",
    "            \n",
    "    def update_target_nn(self):\n",
    "        self.__soft_update(self.actor_target, self.actor, self.tau_actor)\n",
    "        self.__soft_update(self.critic_target, self.critic, self.tau_critic)   "
   ]
  },
  {
   "cell_type": "markdown",
   "metadata": {},
   "source": [
    "#### Класс для DDPG"
   ]
  },
  {
   "cell_type": "code",
   "execution_count": 5,
   "metadata": {
    "colab": {},
    "colab_type": "code",
    "id": "9t5SBSC2vrX4"
   },
   "outputs": [],
   "source": [
    "class DDPG:\n",
    "    def __init__(self, params):\n",
    "        \n",
    "        self.device = params.device\n",
    "        self.gamma = params.gamma\n",
    "        self.batch_size = params.batch_size\n",
    "        self.act_up, self.act_down = params.act_up, params.act_down \n",
    "        \n",
    "        self.explor_noise = Noise(params) \n",
    "        self.buffer = ReplayBuffer(params.buffer_size)\n",
    "        self.model = Model(params)\n",
    "             \n",
    "\n",
    "    def update(self):\n",
    "        if len(self.buffer) <= self.batch_size:\n",
    "            return\n",
    "\n",
    "        transitions = self.buffer.sample(self.batch_size)\n",
    "        batch = self.buffer.transition(*zip(*transitions))\n",
    "\n",
    "        state_batch = self.tensor(batch.state).float()\n",
    "        action_batch = self.tensor(batch.action).float()\n",
    "        reward_batch = self.tensor(batch.reward).float()\n",
    "        next_state_batch = self.tensor(batch.next_state).float()\n",
    "        \n",
    "        with torch.no_grad():\n",
    "            next_actions = self.model.actor_target(next_state_batch)\n",
    "        Q_next = self.model.critic_target(next_state_batch, next_actions).detach() \n",
    "        \n",
    "        reward_batch = reward_batch.unsqueeze(1)\n",
    "        not_terminate_batch = ~torch.tensor(batch.done).to(self.device).unsqueeze(1)\n",
    "        \n",
    "        Q = self.model.critic(state_batch, action_batch)\n",
    "        Q_expected = reward_batch + self.gamma * Q_next * not_terminate_batch\n",
    "        \n",
    "        L = F.mse_loss(Q, Q_expected)\n",
    "        self.model.critic_optimizer.zero_grad()\n",
    "        L.backward()\n",
    "        for param in self.model.critic.parameters():\n",
    "            param.grad.data.clamp_(-1, 1)\n",
    "        self.model.critic_optimizer.step()\n",
    "        \n",
    "        a = self.model.actor(state_batch)\n",
    "        L_policy = - self.model.critic(state_batch, a).mean()\n",
    "        self.model.actor_optimizer.zero_grad()\n",
    "        L_policy.backward()\n",
    "        for param in self.model.actor.parameters():\n",
    "            param.grad.data.clamp_(-1, 1) \n",
    "        self.model.actor_optimizer.step()\n",
    "        \n",
    "        self.model.update_target_nn()\n",
    "        \n",
    "    def act(self, state, eps=0):\n",
    "        state = self.tensor(state).float().unsqueeze(0)\n",
    "        with torch.no_grad():\n",
    "            action = self.model.actor(state)\n",
    "        return np.clip(action.item() + eps*self.explor_noise.make_noise(), self.act_down, self.act_up)\n",
    "\n",
    "    def reset(self):\n",
    "        self.explor_noise.reset()\n",
    "        \n",
    "    def tensor(self, x):\n",
    "        return torch.tensor(x).to(self.device)"
   ]
  },
  {
   "cell_type": "markdown",
   "metadata": {},
   "source": [
    "####  Обучение и тестирование агента"
   ]
  },
  {
   "cell_type": "code",
   "execution_count": 6,
   "metadata": {},
   "outputs": [],
   "source": [
    "def training_agent(params, agent, plot=False):\n",
    "    rewards = []\n",
    "    for i in range(1, params.episodes+1):\n",
    "        state = env.reset()\n",
    "        agent.reset()\n",
    "        params.update_eps()\n",
    "        total_reward, steps = 0, 0\n",
    "        done = False\n",
    "        while not done:\n",
    "            #env.render()\n",
    "            action = agent.act(state, params.eps)\n",
    "\n",
    "            next_state, reward, done, _ = env.step(action)\n",
    "            modified_reward = params.mod_reward(reward, state, next_state)\n",
    "            agent.buffer.push(state, action, next_state, modified_reward, done)\n",
    "            state = next_state\n",
    "            agent.update()\n",
    "\n",
    "            total_reward += reward\n",
    "            steps += 1\n",
    "\n",
    "        rewards.append(total_reward)\n",
    "        print(f\"Episode {i}, reward: {total_reward}\")\n",
    "        if total_reward > 95:\n",
    "            score = params.check_rewards(agent)\n",
    "            print(f\"Local test score: {score}\")\n",
    "            if score > 95:\n",
    "                break\n",
    "    if plot:\n",
    "        plt.plot(range(1, i+1), rewards)\n",
    "        plt.ylabel(\"Reward\")\n",
    "        plt.xlabel(\"Episodes\")\n",
    "        plt.title(\"Training scores\")\n",
    "        plt.show()\n",
    "    return agent\n",
    "\n",
    "def test_agent(agent, plot=True):\n",
    "    env_new = gym.make('MountainCarContinuous-v0')\n",
    "    rewards = []\n",
    "    for i in range(100):\n",
    "        state = env_new.reset()\n",
    "        total_reward, steps = 0, 0\n",
    "        done = False\n",
    "        while not done:\n",
    "            #env_new.render()\n",
    "            next_state, reward, done, _ = env_new.step(agent.act(state))\n",
    "            total_reward += reward\n",
    "            state = next_state\n",
    "        rewards.append(total_reward)\n",
    "    if plot:\n",
    "        plt.plot(range(1,i+2), rewards)\n",
    "        plt.ylabel(\"Reward\")\n",
    "        plt.xlabel(\"Episodes\")\n",
    "        plt.title(\"Test scores\")\n",
    "        plt.show()\n",
    "    print(\"Mean score for 100 episodes:\", np.mean(rewards))"
   ]
  },
  {
   "cell_type": "markdown",
   "metadata": {},
   "source": [
    "#### Класс для настройки параметров модели"
   ]
  },
  {
   "cell_type": "code",
   "execution_count": 10,
   "metadata": {
    "colab": {},
    "colab_type": "code",
    "id": "6GQfUC89vt9I"
   },
   "outputs": [],
   "source": [
    "class Paramaters:\n",
    "    def __init__(self, env):\n",
    "        \n",
    "        self.state_dim = env.observation_space.shape[0]\n",
    "        self.action_dim = env.action_space.shape[0]\n",
    "        self.act_up = env.action_space.high[0]\n",
    "        self.act_down = env.action_space.low[0]\n",
    "\n",
    "        self.device = torch.device(\"cuda\" if torch.cuda.is_available() else \"cpu\")\n",
    "        self.seed = 1\n",
    "        self.gamma = 0.9\n",
    "        self.episodes = 500\n",
    "        self.max_steps = 1000\n",
    "        self.batch_size = 256\n",
    "        self.buffer_size = int(1e4)\n",
    "\n",
    "        self.eps = 1.0\n",
    "        self.eps_decay = 0.95\n",
    "        self.eps_min = 0.01\n",
    "\n",
    "        self.tau_actor = 0.1\n",
    "        self.tau_critic = 0.3\n",
    "        self.lr_actor = 1e-4\n",
    "        self.lr_critic = 1e-3\n",
    "        \n",
    "        self.mu = 0\n",
    "        self.theta = 0.15\n",
    "        self.sigma = 0.2\n",
    "        \n",
    "        self.act_hid_1, self.act_hid_2 = 128, 128\n",
    "        self.crit_hid_1, self.crit_hid_2 = 128, 128\n",
    "        \n",
    "        self.reward_coef = 20\n",
    "        \n",
    "        self.froze_seed()\n",
    "        \n",
    "    def froze_seed(self):\n",
    "        env.seed(self.seed)\n",
    "        torch.manual_seed(self.seed)\n",
    "        np.random.seed(self.seed)\n",
    "        random.seed(self.seed)\n",
    "        \n",
    "    def update_eps(self):\n",
    "        self.eps = max(self.eps_min, self.eps*self.eps_decay)\n",
    "    \n",
    "    def mod_reward(self, reward, state, next_state):\n",
    "        return reward + self.reward_coef * (self.gamma * abs(next_state[1]))\n",
    "    \n",
    "    def check_rewards(self, agent):\n",
    "        env_new = gym.make('MountainCarContinuous-v0')\n",
    "        rewards = []\n",
    "        for _ in range(100):\n",
    "            state = env_new.reset()\n",
    "            total_reward, steps = 0, 0\n",
    "            done = False\n",
    "            while not done:\n",
    "                next_state, reward, done, _ = env_new.step(agent.act(state))\n",
    "                total_reward += reward\n",
    "                state = next_state\n",
    "            rewards.append(total_reward)\n",
    "        return np.mean(rewards)"
   ]
  },
  {
   "cell_type": "markdown",
   "metadata": {},
   "source": [
    "#### Обучение и тестирование агента"
   ]
  },
  {
   "cell_type": "code",
   "execution_count": 11,
   "metadata": {},
   "outputs": [
    {
     "name": "stdout",
     "output_type": "stream",
     "text": [
      "Episode 1, reward: 47.646574766374734\n",
      "Episode 2, reward: -75.22981758481514\n",
      "Episode 3, reward: -38.27702359453729\n",
      "Episode 4, reward: 77.04664901092823\n",
      "Episode 5, reward: 85.24546052941851\n",
      "Episode 6, reward: 91.53811334181174\n",
      "Episode 7, reward: 95.61325399230195\n",
      "Local test score: 97.70085916820862\n"
     ]
    },
    {
     "data": {
      "image/png": "[encoded data removed]",
      "text/plain": [
       "<Figure size 432x288 with 1 Axes>"
      ]
     },
     "metadata": {
      "needs_background": "light"
     },
     "output_type": "display_data"
    },
    {
     "name": "stdout",
     "output_type": "stream",
     "text": [
      "Mean score for 100 episodes: 97.71078852811551\n"
     ]
    }
   ],
   "source": [
    "env = gym.make('MountainCarContinuous-v0')\n",
    "\n",
    "params = Paramaters(env)\n",
    "\n",
    "Agent = DDPG(params)\n",
    "Agent = training_agent(params, Agent)\n",
    "test_agent(Agent)"
   ]
  }
 ],
 "metadata": {
  "colab": {
   "name": "ORIENT.ipynb",
   "provenance": []
  },
  "kernelspec": {
   "display_name": "Python 3",
   "language": "python",
   "name": "python3"
  },
  "language_info": {
   "codemirror_mode": {
    "name": "ipython",
    "version": 3
   },
   "file_extension": ".py",
   "mimetype": "text/x-python",
   "name": "python",
   "nbconvert_exporter": "python",
   "pygments_lexer": "ipython3",
   "version": "3.7.3"
  }
 },
 "nbformat": 4,
 "nbformat_minor": 1
}
